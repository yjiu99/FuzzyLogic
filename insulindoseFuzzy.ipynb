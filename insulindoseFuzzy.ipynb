{
 "cells": [
  {
   "cell_type": "code",
   "execution_count": 2,
   "metadata": {},
   "outputs": [],
   "source": [
    "import pandas as pd\n",
    "import numpy as np\n",
    "import matplotlib.pyplot as plt"
   ]
  },
  {
   "cell_type": "code",
   "execution_count": 64,
   "metadata": {},
   "outputs": [
    {
     "data": {
      "text/html": [
       "<div>\n",
       "<style scoped>\n",
       "    .dataframe tbody tr th:only-of-type {\n",
       "        vertical-align: middle;\n",
       "    }\n",
       "\n",
       "    .dataframe tbody tr th {\n",
       "        vertical-align: top;\n",
       "    }\n",
       "\n",
       "    .dataframe thead th {\n",
       "        text-align: right;\n",
       "    }\n",
       "</style>\n",
       "<table border=\"1\" class=\"dataframe\">\n",
       "  <thead>\n",
       "    <tr style=\"text-align: right;\">\n",
       "      <th></th>\n",
       "      <th>id</th>\n",
       "      <th>carbohydrate</th>\n",
       "      <th>blood</th>\n",
       "    </tr>\n",
       "  </thead>\n",
       "  <tbody>\n",
       "    <tr>\n",
       "      <th>0</th>\n",
       "      <td>1</td>\n",
       "      <td>19</td>\n",
       "      <td>6</td>\n",
       "    </tr>\n",
       "    <tr>\n",
       "      <th>1</th>\n",
       "      <td>2</td>\n",
       "      <td>18</td>\n",
       "      <td>9</td>\n",
       "    </tr>\n",
       "    <tr>\n",
       "      <th>2</th>\n",
       "      <td>3</td>\n",
       "      <td>14</td>\n",
       "      <td>8</td>\n",
       "    </tr>\n",
       "    <tr>\n",
       "      <th>3</th>\n",
       "      <td>4</td>\n",
       "      <td>5</td>\n",
       "      <td>10</td>\n",
       "    </tr>\n",
       "    <tr>\n",
       "      <th>4</th>\n",
       "      <td>5</td>\n",
       "      <td>6</td>\n",
       "      <td>6</td>\n",
       "    </tr>\n",
       "    <tr>\n",
       "      <th>...</th>\n",
       "      <td>...</td>\n",
       "      <td>...</td>\n",
       "      <td>...</td>\n",
       "    </tr>\n",
       "    <tr>\n",
       "      <th>95</th>\n",
       "      <td>96</td>\n",
       "      <td>3</td>\n",
       "      <td>10</td>\n",
       "    </tr>\n",
       "    <tr>\n",
       "      <th>96</th>\n",
       "      <td>97</td>\n",
       "      <td>11</td>\n",
       "      <td>6</td>\n",
       "    </tr>\n",
       "    <tr>\n",
       "      <th>97</th>\n",
       "      <td>98</td>\n",
       "      <td>13</td>\n",
       "      <td>5</td>\n",
       "    </tr>\n",
       "    <tr>\n",
       "      <th>98</th>\n",
       "      <td>99</td>\n",
       "      <td>14</td>\n",
       "      <td>10</td>\n",
       "    </tr>\n",
       "    <tr>\n",
       "      <th>99</th>\n",
       "      <td>100</td>\n",
       "      <td>6</td>\n",
       "      <td>9</td>\n",
       "    </tr>\n",
       "  </tbody>\n",
       "</table>\n",
       "<p>100 rows × 3 columns</p>\n",
       "</div>"
      ],
      "text/plain": [
       "     id  carbohydrate  blood\n",
       "0     1            19      6\n",
       "1     2            18      9\n",
       "2     3            14      8\n",
       "3     4             5     10\n",
       "4     5             6      6\n",
       "..  ...           ...    ...\n",
       "95   96             3     10\n",
       "96   97            11      6\n",
       "97   98            13      5\n",
       "98   99            14     10\n",
       "99  100             6      9\n",
       "\n",
       "[100 rows x 3 columns]"
      ]
     },
     "execution_count": 64,
     "metadata": {},
     "output_type": "execute_result"
    }
   ],
   "source": [
    "data = pd.read_excel(\"https://github.com/yjiu99/FuzzyLogic/blob/main/insullin.xlsx?raw=true\")\n",
    "data"
   ]
  },
  {
   "cell_type": "code",
   "execution_count": 65,
   "metadata": {},
   "outputs": [],
   "source": [
    "def lowCarbohydrate(f):\n",
    "    lowCarbohydrate, notlowCarbohydrate = 10,12\n",
    "    \n",
    "    if f <= lowCarbohydrate:\n",
    "        return 1\n",
    "    elif f > notlowCarbohydrate:\n",
    "        return 0\n",
    "    elif f > lowCarbohydrate and f <= notlowCarbohydrate:\n",
    "        return ((notlowCarbohydrate - f) / (notlowCarbohydrate - lowCarbohydrate))\n",
    "    \n",
    "def mediumCarbohydrate(f):\n",
    "    notmediumCarbohydrate1, mediumCarbohydrate1, mediumCarbohydrate2, notmediumCarbohydrate2 = 10,12,16,18\n",
    "    if f > mediumCarbohydrate1 and f <= mediumCarbohydrate2:\n",
    "        return 1\n",
    "    elif f <= notmediumCarbohydrate1 or f > notmediumCarbohydrate2:\n",
    "        return 0\n",
    "    elif f > notmediumCarbohydrate1 and f <= mediumCarbohydrate1:\n",
    "        return ((f-notmediumCarbohydrate1) / (mediumCarbohydrate1 - notmediumCarbohydrate1))\n",
    "    elif f > mediumCarbohydrate2 and f <= notmediumCarbohydrate2:\n",
    "        return ((notmediumCarbohydrate2 - f) / (notmediumCarbohydrate2 - mediumCarbohydrate2))\n",
    "    \n",
    "def highCarbohydrate(f):\n",
    "    nothighCarbohydrate, highCarbohydrate = 16,18\n",
    "    \n",
    "    if f > highCarbohydrate:\n",
    "        return 1\n",
    "    elif f <= nothighCarbohydrate:\n",
    "        return 0\n",
    "    elif f > nothighCarbohydrate and f <= highCarbohydrate:\n",
    "        return ((f - nothighCarbohydrate) / (highCarbohydrate - nothighCarbohydrate))"
   ]
  },
  {
   "cell_type": "code",
   "execution_count": 66,
   "metadata": {},
   "outputs": [
    {
     "data": {
      "text/plain": [
       "<matplotlib.legend.Legend at 0x249134d96a0>"
      ]
     },
     "execution_count": 66,
     "metadata": {},
     "output_type": "execute_result"
    },
    {
     "data": {
      "image/png": "[encoded data removed]",
      "text/plain": [
       "<Figure size 720x288 with 1 Axes>"
      ]
     },
     "metadata": {
      "needs_background": "light"
     },
     "output_type": "display_data"
    }
   ],
   "source": [
    "# 탄수화물 섭취량 그래프로 그리기\n",
    "x = [ i for i in range(31)]\n",
    "    \n",
    "ylowC = [lowCarbohydrate(i) for i in x]\n",
    "ymediumC = [mediumCarbohydrate(i) for i in x]\n",
    "yhighC = [highCarbohydrate(i) for i in x]\n",
    "\n",
    "plt.figure(figsize=(10,4))\n",
    "plt.title('Membership carbohydrate',fontsize = 20)\n",
    "plt.plot(x, ylowC, label = 'Low')\n",
    "plt.plot(x, ymediumC, label = 'Medium')\n",
    "plt.plot(x, yhighC, label = 'High')\n",
    "plt.xlabel('carbohydrate intake (g)')\n",
    "plt.ylabel(r'$\\mu\\ (x)$')\n",
    "plt.legend()"
   ]
  },
  {
   "cell_type": "code",
   "execution_count": 67,
   "metadata": {},
   "outputs": [],
   "source": [
    "def lowBlood(x):\n",
    "    lowBlood , notlowBlood = 6,7\n",
    "    \n",
    "    if x <= lowBlood:\n",
    "        return 1;\n",
    "    elif x > notlowBlood:\n",
    "        return 0\n",
    "    elif x > lowBlood and x <= notlowBlood:\n",
    "        return ((notlowBlood - x) / (notlowBlood - lowBlood))\n",
    "    \n",
    "def mediumBlood(x):\n",
    "    notmediumBlood1, mediumBlood, notmediumBlood2 = 6,7,8\n",
    "    \n",
    "    if x == mediumBlood:\n",
    "        return 1\n",
    "    elif x <= notmediumBlood1 and x > notmediumBlood2:\n",
    "        return 0\n",
    "    elif x >= notmediumBlood1 and x < mediumBlood:\n",
    "        return (x - notmediumBlood1) / ( mediumBlood- notmediumBlood1)\n",
    "    elif x > mediumBlood and x <= notmediumBlood2:\n",
    "        return ((notmediumBlood2 - x) / (notmediumBlood2 - mediumBlood))\n",
    "    \n",
    "def highBlood(x):\n",
    "    nothighBlood, highBlood = 7,8\n",
    "    \n",
    "    if x > highBlood:\n",
    "        return 1\n",
    "    elif x <= nothighBlood:\n",
    "        return 0\n",
    "    elif x > nothighBlood and x <= highBlood:\n",
    "        return ((x - nothighBlood) / (highBlood - nothighBlood))"
   ]
  },
  {
   "cell_type": "code",
   "execution_count": 68,
   "metadata": {},
   "outputs": [
    {
     "data": {
      "text/plain": [
       "<matplotlib.legend.Legend at 0x249138d9f70>"
      ]
     },
     "execution_count": 68,
     "metadata": {},
     "output_type": "execute_result"
    },
    {
     "data": {
      "image/png": "[encoded data removed]",
      "text/plain": [
       "<Figure size 720x288 with 1 Axes>"
      ]
     },
     "metadata": {
      "needs_background": "light"
     },
     "output_type": "display_data"
    }
   ],
   "source": [
    "#당화혈색소 소속함수\n",
    "\n",
    "x = [i for i in range(5,11)]\n",
    "\n",
    "ylowB = [lowBlood(i) for i in x]\n",
    "ymediumB = [mediumBlood(i) for i in x]\n",
    "yhighB = [highBlood(i) for i in x]\n",
    "plt.figure(figsize=(10,4))\n",
    "plt.title('Membership hemoglobin',fontsize = 20) \n",
    "plt.plot(x, ylowB, label = 'Low')\n",
    "plt.plot(x, ymediumB, label = 'Medium')\n",
    "plt.plot(x, yhighB, label = 'High')\n",
    "plt.xlabel('glycated hemoglobin (%)')\n",
    "plt.ylabel(r'$\\mu\\ (x)$')\n",
    "plt.legend()\n"
   ]
  },
  {
   "cell_type": "code",
   "execution_count": 69,
   "metadata": {},
   "outputs": [],
   "source": [
    "#FUZZIFICATION\n",
    "\n",
    "def fuzzificationCarbohydrate(carbohydrateValue):\n",
    "  carbohydrateSet = []\n",
    "  carbohydrateSet.append(lowCarbohydrate(carbohydrateValue))\n",
    "  carbohydrateSet.append(mediumCarbohydrate(carbohydrateValue))\n",
    "  carbohydrateSet.append(highCarbohydrate(carbohydrateValue))\n",
    "  return carbohydrateSet\n",
    "\n",
    "def fuzzificationBlood(bloodValue):\n",
    "  bloodSet = []\n",
    "  bloodSet.append(lowBlood(bloodValue))\n",
    "  bloodSet.append(mediumBlood(bloodValue))\n",
    "  bloodSet.append(highBlood(bloodValue))\n",
    "  return bloodSet"
   ]
  },
  {
   "cell_type": "code",
   "execution_count": 73,
   "metadata": {},
   "outputs": [],
   "source": [
    "#INFERENCE\n",
    "\n",
    "def inference(carbohydrateSet, bloodSet):\n",
    "    inferenceSet = []\n",
    "    verylowSet, lowSet, mediumSet, highSet, veryhighSet = [], [], [], [],[]\n",
    "\n",
    "    verylowSet.append(bloodSet[0])\n",
    "    verylowSet.append(min(carbohydrateSet[0], bloodSet[1]))\n",
    "    \n",
    "    lowSet.append(min(carbohydrateSet[1], bloodSet[1]))\n",
    "    \n",
    "    mediumSet.append(min(carbohydrateSet[0], bloodSet[2]))\n",
    "    mediumSet.append(min(carbohydrateSet[1], bloodSet[2]))\n",
    "    \n",
    "    highSet.append(min(carbohydrateSet[2], bloodSet[1]))\n",
    "    \n",
    "    veryhighSet.append(min(carbohydrateSet[2], bloodSet[2]))\n",
    "    \n",
    "    inferenceSet.append(max(verylowSet))\n",
    "    inferenceSet.append(max(lowSet))\n",
    "    inferenceSet.append(max(mediumSet))\n",
    "    inferenceSet.append(max(highSet))\n",
    "    inferenceSet.append(max(veryhighSet))\n",
    "    \n",
    "    return inferenceSet"
   ]
  },
  {
   "cell_type": "code",
   "execution_count": 74,
   "metadata": {},
   "outputs": [],
   "source": [
    "#DEFUZZIFICATION\n",
    "\n",
    "def defuzzification(inferenceSet):\n",
    "    multiplier = (inferenceSet[0]*10) + (inferenceSet[1]*20) + (inferenceSet[2]*30) + (inferenceSet[3]*40) + (inferenceSet[4]*50)\n",
    "    divider = inferenceSet[0] + inferenceSet[1] + inferenceSet[2] + inferenceSet[3] + inferenceSet[4]\n",
    "    return multiplier/divider"
   ]
  },
  {
   "cell_type": "code",
   "execution_count": 75,
   "metadata": {},
   "outputs": [
    {
     "data": {
      "text/plain": [
       "<matplotlib.legend.Legend at 0x24914980d90>"
      ]
     },
     "execution_count": 75,
     "metadata": {},
     "output_type": "execute_result"
    },
    {
     "data": {
      "image/png": "[encoded data removed]",
      "text/plain": [
       "<Figure size 720x288 with 1 Axes>"
      ]
     },
     "metadata": {
      "needs_background": "light"
     },
     "output_type": "display_data"
    }
   ],
   "source": [
    "xVerylow = [10,10]\n",
    "xLow = [20,20]\n",
    "xMedium = [30,30]\n",
    "xHigh = [40,40]\n",
    "xVeryHigh = [50,50]\n",
    "\n",
    "y = [0,1]\n",
    "\n",
    "plt.figure(figsize=(10,4))\n",
    "plt.title('Defuzzification insullin',fontsize = 20)\n",
    "plt.plot(xVerylow,y,label='VeryLow')\n",
    "plt.plot(xLow,y,label='Low')\n",
    "plt.plot(xMedium,y,label='Medium')\n",
    "plt.plot(xHigh,y,label='High')\n",
    "plt.plot(xVeryHigh,y,label='VeryHigh')\n",
    "plt.xlabel('insulin dose')\n",
    "plt.ylabel(r'$\\mu\\ output$')\n",
    "plt.legend()"
   ]
  },
  {
   "cell_type": "code",
   "execution_count": 76,
   "metadata": {},
   "outputs": [
    {
     "ename": "TypeError",
     "evalue": "'<' not supported between instances of 'NoneType' and 'int'",
     "output_type": "error",
     "traceback": [
      "\u001b[1;31m---------------------------------------------------------------------------\u001b[0m",
      "\u001b[1;31mTypeError\u001b[0m                                 Traceback (most recent call last)",
      "\u001b[1;32m<ipython-input-76-1e6ecf2153ed>\u001b[0m in \u001b[0;36m<module>\u001b[1;34m\u001b[0m\n\u001b[0;32m      4\u001b[0m     \u001b[0mfuzziCarbohydrate\u001b[0m \u001b[1;33m=\u001b[0m \u001b[0mfuzzificationCarbohydrate\u001b[0m\u001b[1;33m(\u001b[0m\u001b[0mdata\u001b[0m\u001b[1;33m[\u001b[0m\u001b[1;34m'carbohydrate'\u001b[0m\u001b[1;33m]\u001b[0m\u001b[1;33m[\u001b[0m\u001b[0mrow\u001b[0m\u001b[1;33m]\u001b[0m\u001b[1;33m)\u001b[0m\u001b[1;33m\u001b[0m\u001b[1;33m\u001b[0m\u001b[0m\n\u001b[0;32m      5\u001b[0m     \u001b[0mfuzziBlood\u001b[0m \u001b[1;33m=\u001b[0m \u001b[0mfuzzificationBlood\u001b[0m\u001b[1;33m(\u001b[0m\u001b[0mdata\u001b[0m\u001b[1;33m[\u001b[0m\u001b[1;34m'blood'\u001b[0m\u001b[1;33m]\u001b[0m\u001b[1;33m[\u001b[0m\u001b[0mrow\u001b[0m\u001b[1;33m]\u001b[0m\u001b[1;33m)\u001b[0m\u001b[1;33m\u001b[0m\u001b[1;33m\u001b[0m\u001b[0m\n\u001b[1;32m----> 6\u001b[1;33m     \u001b[0minferensi\u001b[0m \u001b[1;33m=\u001b[0m \u001b[0minference\u001b[0m\u001b[1;33m(\u001b[0m\u001b[0mfuzziCarbohydrate\u001b[0m\u001b[1;33m,\u001b[0m\u001b[0mfuzziBlood\u001b[0m\u001b[1;33m)\u001b[0m\u001b[1;33m\u001b[0m\u001b[1;33m\u001b[0m\u001b[0m\n\u001b[0m\u001b[0;32m      7\u001b[0m     \u001b[0minsulinDose\u001b[0m\u001b[1;33m.\u001b[0m\u001b[0mextend\u001b[0m\u001b[1;33m(\u001b[0m\u001b[1;33m[\u001b[0m\u001b[0mdefuzzification\u001b[0m\u001b[1;33m(\u001b[0m\u001b[0minferensi\u001b[0m\u001b[1;33m)\u001b[0m\u001b[1;33m]\u001b[0m\u001b[1;33m)\u001b[0m\u001b[1;33m\u001b[0m\u001b[1;33m\u001b[0m\u001b[0m\n\u001b[0;32m      8\u001b[0m \u001b[1;33m\u001b[0m\u001b[0m\n",
      "\u001b[1;32m<ipython-input-73-9a1a21cdc7d8>\u001b[0m in \u001b[0;36minference\u001b[1;34m(carbohydrateSet, bloodSet)\u001b[0m\n\u001b[0;32m      6\u001b[0m \u001b[1;33m\u001b[0m\u001b[0m\n\u001b[0;32m      7\u001b[0m     \u001b[0mverylowSet\u001b[0m\u001b[1;33m.\u001b[0m\u001b[0mappend\u001b[0m\u001b[1;33m(\u001b[0m\u001b[0mbloodSet\u001b[0m\u001b[1;33m[\u001b[0m\u001b[1;36m0\u001b[0m\u001b[1;33m]\u001b[0m\u001b[1;33m)\u001b[0m\u001b[1;33m\u001b[0m\u001b[1;33m\u001b[0m\u001b[0m\n\u001b[1;32m----> 8\u001b[1;33m     \u001b[0mverylowSet\u001b[0m\u001b[1;33m.\u001b[0m\u001b[0mappend\u001b[0m\u001b[1;33m(\u001b[0m\u001b[0mmin\u001b[0m\u001b[1;33m(\u001b[0m\u001b[0mcarbohydrateSet\u001b[0m\u001b[1;33m[\u001b[0m\u001b[1;36m0\u001b[0m\u001b[1;33m]\u001b[0m\u001b[1;33m,\u001b[0m \u001b[0mbloodSet\u001b[0m\u001b[1;33m[\u001b[0m\u001b[1;36m1\u001b[0m\u001b[1;33m]\u001b[0m\u001b[1;33m)\u001b[0m\u001b[1;33m)\u001b[0m\u001b[1;33m\u001b[0m\u001b[1;33m\u001b[0m\u001b[0m\n\u001b[0m\u001b[0;32m      9\u001b[0m \u001b[1;33m\u001b[0m\u001b[0m\n\u001b[0;32m     10\u001b[0m     \u001b[0mlowSet\u001b[0m\u001b[1;33m.\u001b[0m\u001b[0mappend\u001b[0m\u001b[1;33m(\u001b[0m\u001b[0mmin\u001b[0m\u001b[1;33m(\u001b[0m\u001b[0mcarbohydrateSet\u001b[0m\u001b[1;33m[\u001b[0m\u001b[1;36m1\u001b[0m\u001b[1;33m]\u001b[0m\u001b[1;33m,\u001b[0m \u001b[0mbloodSet\u001b[0m\u001b[1;33m[\u001b[0m\u001b[1;36m1\u001b[0m\u001b[1;33m]\u001b[0m\u001b[1;33m)\u001b[0m\u001b[1;33m)\u001b[0m\u001b[1;33m\u001b[0m\u001b[1;33m\u001b[0m\u001b[0m\n",
      "\u001b[1;31mTypeError\u001b[0m: '<' not supported between instances of 'NoneType' and 'int'"
     ]
    }
   ],
   "source": [
    "#계산\n",
    "insulinDose = []\n",
    "for row in range(100):\n",
    "    fuzziCarbohydrate = fuzzificationCarbohydrate(data['carbohydrate'][row])\n",
    "    fuzziBlood = fuzzificationBlood(data['blood'][row])\n",
    "    inferensi = inference(fuzziCarbohydrate,fuzziBlood)\n",
    "    insulinDose.extend([defuzzification(inferensi)])\n",
    "\n",
    "    \n",
    "# 엑셀에 값 저장\n",
    "data['insulin'] = insulinDose\n",
    "data = data.sort_values(by='insulin', ascending=False)[:10] \n",
    "data['id'].to_excel('InsulinFuzzyResult.xls', index=False, header=False)\n",
    "\n",
    "data"
   ]
  },
  {
   "cell_type": "code",
   "execution_count": null,
   "metadata": {},
   "outputs": [],
   "source": []
  },
  {
   "cell_type": "code",
   "execution_count": null,
   "metadata": {},
   "outputs": [],
   "source": []
  }
 ],
 "metadata": {
  "kernelspec": {
   "display_name": "Python 3",
   "language": "python",
   "name": "python3"
  },
  "language_info": {
   "codemirror_mode": {
    "name": "ipython",
    "version": 3
   },
   "file_extension": ".py",
   "mimetype": "text/x-python",
   "name": "python",
   "nbconvert_exporter": "python",
   "pygments_lexer": "ipython3",
   "version": "3.8.3"
  }
 },
 "nbformat": 4,
 "nbformat_minor": 4
}
